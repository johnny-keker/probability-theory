{
 "cells": [
  {
   "cell_type": "markdown",
   "metadata": {},
   "source": [
    "**Задание**\n",
    "\n",
    "Исследовать среднюю температуру за 31 день(дней) в городах Осака и Санкт-Петербург, исследовать параметры распределения, построить график полигона частот температур и гистограмму относительных частот. Отметить на графике моду и медиану выборки."
   ]
  },
  {
   "cell_type": "code",
   "execution_count": 44,
   "metadata": {},
   "outputs": [],
   "source": [
    "#---------Исходные-данные----------\n",
    "#--Названия-городов--\n",
    "city1 = 'Осака'\n",
    "city2 = 'Санкт-Петербург'\n",
    "#--Месяц-и-год--\n",
    "mounth = 3\n",
    "year = 2016\n",
    "#--Значения-температуры--\n",
    "# https://www.holiday-weather.com/osaka/march/2017/#calendar\n",
    "t1 = [7, 10, 8, 9, 10, 10, 7, 5, 7, 8, 7, 8, 10, 9, 7, 8, 8, 9, 11, 12, 10, 9, 10, 9, 9, 9, 10, 9, 11, 14, 9]\n",
    "# https://spb.nuipogoda.ru/%D0%BC%D0%B0%D1%80%D1%82-2017\n",
    "t2 = [7, 4, 3, 2, -2, -1, 1, 4, 6, 2, 3, 3, 2, 5, 6, 6, 5, 4, 6, 8, 8, 6, 5, 2, 2, 4, 5, 3, 1, 1, 5]"
   ]
  },
  {
   "cell_type": "markdown",
   "metadata": {},
   "source": [
    "**Исходные данные.**"
   ]
  },
  {
   "cell_type": "code",
   "execution_count": 20,
   "metadata": {},
   "outputs": [
    {
     "data": {
      "text/html": [
       "<style  type=\"text/css\" >\n",
       "    #T_4d38d6d0_7cd4_11e9_85ea_548ca055b027 .row_heading, .blank {\n",
       "          display: none;;\n",
       "    }</style>  \n",
       "<table id=\"T_4d38d6d0_7cd4_11e9_85ea_548ca055b027\" > \n",
       "<thead>    <tr> \n",
       "        <th class=\"blank level0\" ></th> \n",
       "        <th class=\"col_heading level0 col0\" >Дата</th> \n",
       "        <th class=\"col_heading level0 col1\" >Осака</th> \n",
       "        <th class=\"col_heading level0 col2\" >Санкт-Петербург</th> \n",
       "    </tr></thead> \n",
       "<tbody>    <tr> \n",
       "        <th id=\"T_4d38d6d0_7cd4_11e9_85ea_548ca055b027level0_row0\" class=\"row_heading level0 row0\" >0</th> \n",
       "        <td id=\"T_4d38d6d0_7cd4_11e9_85ea_548ca055b027row0_col0\" class=\"data row0 col0\" >01.03.2016</td> \n",
       "        <td id=\"T_4d38d6d0_7cd4_11e9_85ea_548ca055b027row0_col1\" class=\"data row0 col1\" >7</td> \n",
       "        <td id=\"T_4d38d6d0_7cd4_11e9_85ea_548ca055b027row0_col2\" class=\"data row0 col2\" >7</td> \n",
       "    </tr>    <tr> \n",
       "        <th id=\"T_4d38d6d0_7cd4_11e9_85ea_548ca055b027level0_row1\" class=\"row_heading level0 row1\" >1</th> \n",
       "        <td id=\"T_4d38d6d0_7cd4_11e9_85ea_548ca055b027row1_col0\" class=\"data row1 col0\" >02.03.2016</td> \n",
       "        <td id=\"T_4d38d6d0_7cd4_11e9_85ea_548ca055b027row1_col1\" class=\"data row1 col1\" >10</td> \n",
       "        <td id=\"T_4d38d6d0_7cd4_11e9_85ea_548ca055b027row1_col2\" class=\"data row1 col2\" >4</td> \n",
       "    </tr>    <tr> \n",
       "        <th id=\"T_4d38d6d0_7cd4_11e9_85ea_548ca055b027level0_row2\" class=\"row_heading level0 row2\" >2</th> \n",
       "        <td id=\"T_4d38d6d0_7cd4_11e9_85ea_548ca055b027row2_col0\" class=\"data row2 col0\" >03.03.2016</td> \n",
       "        <td id=\"T_4d38d6d0_7cd4_11e9_85ea_548ca055b027row2_col1\" class=\"data row2 col1\" >8</td> \n",
       "        <td id=\"T_4d38d6d0_7cd4_11e9_85ea_548ca055b027row2_col2\" class=\"data row2 col2\" >3</td> \n",
       "    </tr>    <tr> \n",
       "        <th id=\"T_4d38d6d0_7cd4_11e9_85ea_548ca055b027level0_row3\" class=\"row_heading level0 row3\" >3</th> \n",
       "        <td id=\"T_4d38d6d0_7cd4_11e9_85ea_548ca055b027row3_col0\" class=\"data row3 col0\" >04.03.2016</td> \n",
       "        <td id=\"T_4d38d6d0_7cd4_11e9_85ea_548ca055b027row3_col1\" class=\"data row3 col1\" >9</td> \n",
       "        <td id=\"T_4d38d6d0_7cd4_11e9_85ea_548ca055b027row3_col2\" class=\"data row3 col2\" >2</td> \n",
       "    </tr>    <tr> \n",
       "        <th id=\"T_4d38d6d0_7cd4_11e9_85ea_548ca055b027level0_row4\" class=\"row_heading level0 row4\" >4</th> \n",
       "        <td id=\"T_4d38d6d0_7cd4_11e9_85ea_548ca055b027row4_col0\" class=\"data row4 col0\" >05.03.2016</td> \n",
       "        <td id=\"T_4d38d6d0_7cd4_11e9_85ea_548ca055b027row4_col1\" class=\"data row4 col1\" >10</td> \n",
       "        <td id=\"T_4d38d6d0_7cd4_11e9_85ea_548ca055b027row4_col2\" class=\"data row4 col2\" >-2</td> \n",
       "    </tr>    <tr> \n",
       "        <th id=\"T_4d38d6d0_7cd4_11e9_85ea_548ca055b027level0_row5\" class=\"row_heading level0 row5\" >5</th> \n",
       "        <td id=\"T_4d38d6d0_7cd4_11e9_85ea_548ca055b027row5_col0\" class=\"data row5 col0\" >06.03.2016</td> \n",
       "        <td id=\"T_4d38d6d0_7cd4_11e9_85ea_548ca055b027row5_col1\" class=\"data row5 col1\" >10</td> \n",
       "        <td id=\"T_4d38d6d0_7cd4_11e9_85ea_548ca055b027row5_col2\" class=\"data row5 col2\" >-1</td> \n",
       "    </tr>    <tr> \n",
       "        <th id=\"T_4d38d6d0_7cd4_11e9_85ea_548ca055b027level0_row6\" class=\"row_heading level0 row6\" >6</th> \n",
       "        <td id=\"T_4d38d6d0_7cd4_11e9_85ea_548ca055b027row6_col0\" class=\"data row6 col0\" >07.03.2016</td> \n",
       "        <td id=\"T_4d38d6d0_7cd4_11e9_85ea_548ca055b027row6_col1\" class=\"data row6 col1\" >7</td> \n",
       "        <td id=\"T_4d38d6d0_7cd4_11e9_85ea_548ca055b027row6_col2\" class=\"data row6 col2\" >1</td> \n",
       "    </tr>    <tr> \n",
       "        <th id=\"T_4d38d6d0_7cd4_11e9_85ea_548ca055b027level0_row7\" class=\"row_heading level0 row7\" >7</th> \n",
       "        <td id=\"T_4d38d6d0_7cd4_11e9_85ea_548ca055b027row7_col0\" class=\"data row7 col0\" >08.03.2016</td> \n",
       "        <td id=\"T_4d38d6d0_7cd4_11e9_85ea_548ca055b027row7_col1\" class=\"data row7 col1\" >5</td> \n",
       "        <td id=\"T_4d38d6d0_7cd4_11e9_85ea_548ca055b027row7_col2\" class=\"data row7 col2\" >4</td> \n",
       "    </tr>    <tr> \n",
       "        <th id=\"T_4d38d6d0_7cd4_11e9_85ea_548ca055b027level0_row8\" class=\"row_heading level0 row8\" >8</th> \n",
       "        <td id=\"T_4d38d6d0_7cd4_11e9_85ea_548ca055b027row8_col0\" class=\"data row8 col0\" >09.03.2016</td> \n",
       "        <td id=\"T_4d38d6d0_7cd4_11e9_85ea_548ca055b027row8_col1\" class=\"data row8 col1\" >7</td> \n",
       "        <td id=\"T_4d38d6d0_7cd4_11e9_85ea_548ca055b027row8_col2\" class=\"data row8 col2\" >6</td> \n",
       "    </tr>    <tr> \n",
       "        <th id=\"T_4d38d6d0_7cd4_11e9_85ea_548ca055b027level0_row9\" class=\"row_heading level0 row9\" >9</th> \n",
       "        <td id=\"T_4d38d6d0_7cd4_11e9_85ea_548ca055b027row9_col0\" class=\"data row9 col0\" >10.03.2016</td> \n",
       "        <td id=\"T_4d38d6d0_7cd4_11e9_85ea_548ca055b027row9_col1\" class=\"data row9 col1\" >8</td> \n",
       "        <td id=\"T_4d38d6d0_7cd4_11e9_85ea_548ca055b027row9_col2\" class=\"data row9 col2\" >2</td> \n",
       "    </tr>    <tr> \n",
       "        <th id=\"T_4d38d6d0_7cd4_11e9_85ea_548ca055b027level0_row10\" class=\"row_heading level0 row10\" >10</th> \n",
       "        <td id=\"T_4d38d6d0_7cd4_11e9_85ea_548ca055b027row10_col0\" class=\"data row10 col0\" >11.03.2016</td> \n",
       "        <td id=\"T_4d38d6d0_7cd4_11e9_85ea_548ca055b027row10_col1\" class=\"data row10 col1\" >7</td> \n",
       "        <td id=\"T_4d38d6d0_7cd4_11e9_85ea_548ca055b027row10_col2\" class=\"data row10 col2\" >3</td> \n",
       "    </tr>    <tr> \n",
       "        <th id=\"T_4d38d6d0_7cd4_11e9_85ea_548ca055b027level0_row11\" class=\"row_heading level0 row11\" >11</th> \n",
       "        <td id=\"T_4d38d6d0_7cd4_11e9_85ea_548ca055b027row11_col0\" class=\"data row11 col0\" >12.03.2016</td> \n",
       "        <td id=\"T_4d38d6d0_7cd4_11e9_85ea_548ca055b027row11_col1\" class=\"data row11 col1\" >8</td> \n",
       "        <td id=\"T_4d38d6d0_7cd4_11e9_85ea_548ca055b027row11_col2\" class=\"data row11 col2\" >3</td> \n",
       "    </tr>    <tr> \n",
       "        <th id=\"T_4d38d6d0_7cd4_11e9_85ea_548ca055b027level0_row12\" class=\"row_heading level0 row12\" >12</th> \n",
       "        <td id=\"T_4d38d6d0_7cd4_11e9_85ea_548ca055b027row12_col0\" class=\"data row12 col0\" >13.03.2016</td> \n",
       "        <td id=\"T_4d38d6d0_7cd4_11e9_85ea_548ca055b027row12_col1\" class=\"data row12 col1\" >10</td> \n",
       "        <td id=\"T_4d38d6d0_7cd4_11e9_85ea_548ca055b027row12_col2\" class=\"data row12 col2\" >2</td> \n",
       "    </tr>    <tr> \n",
       "        <th id=\"T_4d38d6d0_7cd4_11e9_85ea_548ca055b027level0_row13\" class=\"row_heading level0 row13\" >13</th> \n",
       "        <td id=\"T_4d38d6d0_7cd4_11e9_85ea_548ca055b027row13_col0\" class=\"data row13 col0\" >14.03.2016</td> \n",
       "        <td id=\"T_4d38d6d0_7cd4_11e9_85ea_548ca055b027row13_col1\" class=\"data row13 col1\" >9</td> \n",
       "        <td id=\"T_4d38d6d0_7cd4_11e9_85ea_548ca055b027row13_col2\" class=\"data row13 col2\" >5</td> \n",
       "    </tr>    <tr> \n",
       "        <th id=\"T_4d38d6d0_7cd4_11e9_85ea_548ca055b027level0_row14\" class=\"row_heading level0 row14\" >14</th> \n",
       "        <td id=\"T_4d38d6d0_7cd4_11e9_85ea_548ca055b027row14_col0\" class=\"data row14 col0\" >15.03.2016</td> \n",
       "        <td id=\"T_4d38d6d0_7cd4_11e9_85ea_548ca055b027row14_col1\" class=\"data row14 col1\" >7</td> \n",
       "        <td id=\"T_4d38d6d0_7cd4_11e9_85ea_548ca055b027row14_col2\" class=\"data row14 col2\" >6</td> \n",
       "    </tr>    <tr> \n",
       "        <th id=\"T_4d38d6d0_7cd4_11e9_85ea_548ca055b027level0_row15\" class=\"row_heading level0 row15\" >15</th> \n",
       "        <td id=\"T_4d38d6d0_7cd4_11e9_85ea_548ca055b027row15_col0\" class=\"data row15 col0\" >16.03.2016</td> \n",
       "        <td id=\"T_4d38d6d0_7cd4_11e9_85ea_548ca055b027row15_col1\" class=\"data row15 col1\" >8</td> \n",
       "        <td id=\"T_4d38d6d0_7cd4_11e9_85ea_548ca055b027row15_col2\" class=\"data row15 col2\" >6</td> \n",
       "    </tr>    <tr> \n",
       "        <th id=\"T_4d38d6d0_7cd4_11e9_85ea_548ca055b027level0_row16\" class=\"row_heading level0 row16\" >16</th> \n",
       "        <td id=\"T_4d38d6d0_7cd4_11e9_85ea_548ca055b027row16_col0\" class=\"data row16 col0\" >17.03.2016</td> \n",
       "        <td id=\"T_4d38d6d0_7cd4_11e9_85ea_548ca055b027row16_col1\" class=\"data row16 col1\" >8</td> \n",
       "        <td id=\"T_4d38d6d0_7cd4_11e9_85ea_548ca055b027row16_col2\" class=\"data row16 col2\" >5</td> \n",
       "    </tr>    <tr> \n",
       "        <th id=\"T_4d38d6d0_7cd4_11e9_85ea_548ca055b027level0_row17\" class=\"row_heading level0 row17\" >17</th> \n",
       "        <td id=\"T_4d38d6d0_7cd4_11e9_85ea_548ca055b027row17_col0\" class=\"data row17 col0\" >18.03.2016</td> \n",
       "        <td id=\"T_4d38d6d0_7cd4_11e9_85ea_548ca055b027row17_col1\" class=\"data row17 col1\" >9</td> \n",
       "        <td id=\"T_4d38d6d0_7cd4_11e9_85ea_548ca055b027row17_col2\" class=\"data row17 col2\" >4</td> \n",
       "    </tr>    <tr> \n",
       "        <th id=\"T_4d38d6d0_7cd4_11e9_85ea_548ca055b027level0_row18\" class=\"row_heading level0 row18\" >18</th> \n",
       "        <td id=\"T_4d38d6d0_7cd4_11e9_85ea_548ca055b027row18_col0\" class=\"data row18 col0\" >19.03.2016</td> \n",
       "        <td id=\"T_4d38d6d0_7cd4_11e9_85ea_548ca055b027row18_col1\" class=\"data row18 col1\" >11</td> \n",
       "        <td id=\"T_4d38d6d0_7cd4_11e9_85ea_548ca055b027row18_col2\" class=\"data row18 col2\" >6</td> \n",
       "    </tr>    <tr> \n",
       "        <th id=\"T_4d38d6d0_7cd4_11e9_85ea_548ca055b027level0_row19\" class=\"row_heading level0 row19\" >19</th> \n",
       "        <td id=\"T_4d38d6d0_7cd4_11e9_85ea_548ca055b027row19_col0\" class=\"data row19 col0\" >20.03.2016</td> \n",
       "        <td id=\"T_4d38d6d0_7cd4_11e9_85ea_548ca055b027row19_col1\" class=\"data row19 col1\" >12</td> \n",
       "        <td id=\"T_4d38d6d0_7cd4_11e9_85ea_548ca055b027row19_col2\" class=\"data row19 col2\" >8</td> \n",
       "    </tr>    <tr> \n",
       "        <th id=\"T_4d38d6d0_7cd4_11e9_85ea_548ca055b027level0_row20\" class=\"row_heading level0 row20\" >20</th> \n",
       "        <td id=\"T_4d38d6d0_7cd4_11e9_85ea_548ca055b027row20_col0\" class=\"data row20 col0\" >21.03.2016</td> \n",
       "        <td id=\"T_4d38d6d0_7cd4_11e9_85ea_548ca055b027row20_col1\" class=\"data row20 col1\" >10</td> \n",
       "        <td id=\"T_4d38d6d0_7cd4_11e9_85ea_548ca055b027row20_col2\" class=\"data row20 col2\" >8</td> \n",
       "    </tr>    <tr> \n",
       "        <th id=\"T_4d38d6d0_7cd4_11e9_85ea_548ca055b027level0_row21\" class=\"row_heading level0 row21\" >21</th> \n",
       "        <td id=\"T_4d38d6d0_7cd4_11e9_85ea_548ca055b027row21_col0\" class=\"data row21 col0\" >22.03.2016</td> \n",
       "        <td id=\"T_4d38d6d0_7cd4_11e9_85ea_548ca055b027row21_col1\" class=\"data row21 col1\" >9</td> \n",
       "        <td id=\"T_4d38d6d0_7cd4_11e9_85ea_548ca055b027row21_col2\" class=\"data row21 col2\" >6</td> \n",
       "    </tr>    <tr> \n",
       "        <th id=\"T_4d38d6d0_7cd4_11e9_85ea_548ca055b027level0_row22\" class=\"row_heading level0 row22\" >22</th> \n",
       "        <td id=\"T_4d38d6d0_7cd4_11e9_85ea_548ca055b027row22_col0\" class=\"data row22 col0\" >23.03.2016</td> \n",
       "        <td id=\"T_4d38d6d0_7cd4_11e9_85ea_548ca055b027row22_col1\" class=\"data row22 col1\" >10</td> \n",
       "        <td id=\"T_4d38d6d0_7cd4_11e9_85ea_548ca055b027row22_col2\" class=\"data row22 col2\" >5</td> \n",
       "    </tr>    <tr> \n",
       "        <th id=\"T_4d38d6d0_7cd4_11e9_85ea_548ca055b027level0_row23\" class=\"row_heading level0 row23\" >23</th> \n",
       "        <td id=\"T_4d38d6d0_7cd4_11e9_85ea_548ca055b027row23_col0\" class=\"data row23 col0\" >24.03.2016</td> \n",
       "        <td id=\"T_4d38d6d0_7cd4_11e9_85ea_548ca055b027row23_col1\" class=\"data row23 col1\" >9</td> \n",
       "        <td id=\"T_4d38d6d0_7cd4_11e9_85ea_548ca055b027row23_col2\" class=\"data row23 col2\" >2</td> \n",
       "    </tr>    <tr> \n",
       "        <th id=\"T_4d38d6d0_7cd4_11e9_85ea_548ca055b027level0_row24\" class=\"row_heading level0 row24\" >24</th> \n",
       "        <td id=\"T_4d38d6d0_7cd4_11e9_85ea_548ca055b027row24_col0\" class=\"data row24 col0\" >25.03.2016</td> \n",
       "        <td id=\"T_4d38d6d0_7cd4_11e9_85ea_548ca055b027row24_col1\" class=\"data row24 col1\" >9</td> \n",
       "        <td id=\"T_4d38d6d0_7cd4_11e9_85ea_548ca055b027row24_col2\" class=\"data row24 col2\" >2</td> \n",
       "    </tr>    <tr> \n",
       "        <th id=\"T_4d38d6d0_7cd4_11e9_85ea_548ca055b027level0_row25\" class=\"row_heading level0 row25\" >25</th> \n",
       "        <td id=\"T_4d38d6d0_7cd4_11e9_85ea_548ca055b027row25_col0\" class=\"data row25 col0\" >26.03.2016</td> \n",
       "        <td id=\"T_4d38d6d0_7cd4_11e9_85ea_548ca055b027row25_col1\" class=\"data row25 col1\" >9</td> \n",
       "        <td id=\"T_4d38d6d0_7cd4_11e9_85ea_548ca055b027row25_col2\" class=\"data row25 col2\" >4</td> \n",
       "    </tr>    <tr> \n",
       "        <th id=\"T_4d38d6d0_7cd4_11e9_85ea_548ca055b027level0_row26\" class=\"row_heading level0 row26\" >26</th> \n",
       "        <td id=\"T_4d38d6d0_7cd4_11e9_85ea_548ca055b027row26_col0\" class=\"data row26 col0\" >27.03.2016</td> \n",
       "        <td id=\"T_4d38d6d0_7cd4_11e9_85ea_548ca055b027row26_col1\" class=\"data row26 col1\" >10</td> \n",
       "        <td id=\"T_4d38d6d0_7cd4_11e9_85ea_548ca055b027row26_col2\" class=\"data row26 col2\" >5</td> \n",
       "    </tr>    <tr> \n",
       "        <th id=\"T_4d38d6d0_7cd4_11e9_85ea_548ca055b027level0_row27\" class=\"row_heading level0 row27\" >27</th> \n",
       "        <td id=\"T_4d38d6d0_7cd4_11e9_85ea_548ca055b027row27_col0\" class=\"data row27 col0\" >28.03.2016</td> \n",
       "        <td id=\"T_4d38d6d0_7cd4_11e9_85ea_548ca055b027row27_col1\" class=\"data row27 col1\" >9</td> \n",
       "        <td id=\"T_4d38d6d0_7cd4_11e9_85ea_548ca055b027row27_col2\" class=\"data row27 col2\" >3</td> \n",
       "    </tr>    <tr> \n",
       "        <th id=\"T_4d38d6d0_7cd4_11e9_85ea_548ca055b027level0_row28\" class=\"row_heading level0 row28\" >28</th> \n",
       "        <td id=\"T_4d38d6d0_7cd4_11e9_85ea_548ca055b027row28_col0\" class=\"data row28 col0\" >29.03.2016</td> \n",
       "        <td id=\"T_4d38d6d0_7cd4_11e9_85ea_548ca055b027row28_col1\" class=\"data row28 col1\" >11</td> \n",
       "        <td id=\"T_4d38d6d0_7cd4_11e9_85ea_548ca055b027row28_col2\" class=\"data row28 col2\" >1</td> \n",
       "    </tr>    <tr> \n",
       "        <th id=\"T_4d38d6d0_7cd4_11e9_85ea_548ca055b027level0_row29\" class=\"row_heading level0 row29\" >29</th> \n",
       "        <td id=\"T_4d38d6d0_7cd4_11e9_85ea_548ca055b027row29_col0\" class=\"data row29 col0\" >30.03.2016</td> \n",
       "        <td id=\"T_4d38d6d0_7cd4_11e9_85ea_548ca055b027row29_col1\" class=\"data row29 col1\" >14</td> \n",
       "        <td id=\"T_4d38d6d0_7cd4_11e9_85ea_548ca055b027row29_col2\" class=\"data row29 col2\" >1</td> \n",
       "    </tr>    <tr> \n",
       "        <th id=\"T_4d38d6d0_7cd4_11e9_85ea_548ca055b027level0_row30\" class=\"row_heading level0 row30\" >30</th> \n",
       "        <td id=\"T_4d38d6d0_7cd4_11e9_85ea_548ca055b027row30_col0\" class=\"data row30 col0\" >31.03.2016</td> \n",
       "        <td id=\"T_4d38d6d0_7cd4_11e9_85ea_548ca055b027row30_col1\" class=\"data row30 col1\" >9</td> \n",
       "        <td id=\"T_4d38d6d0_7cd4_11e9_85ea_548ca055b027row30_col2\" class=\"data row30 col2\" >5</td> \n",
       "    </tr></tbody> \n",
       "</table> "
      ],
      "text/plain": [
       "<pandas.io.formats.style.Styler at 0x7f42ed67a0f0>"
      ]
     },
     "execution_count": 20,
     "metadata": {},
     "output_type": "execute_result"
    }
   ],
   "source": [
    "import pandas as pd\n",
    "import datetime\n",
    "\n",
    "table1 = pd.DataFrame(data = {\n",
    "    'Дата': [datetime.datetime(year, mounth, i).strftime('%d.%m.%Y') for i in range(1, len(t1) + 1)],\n",
    "    city1: t1,\n",
    "    city2: t2\n",
    "}).style.set_table_styles([\n",
    "    {'selector': '.row_heading, .blank', 'props': [('display', 'none;')]}\n",
    "])\n",
    "table1"
   ]
  },
  {
   "cell_type": "code",
   "execution_count": 56,
   "metadata": {},
   "outputs": [],
   "source": [
    "days = len(t1)\n",
    "# Варианты, частоты и относительные частоты\n",
    "v1 = sorted(list(set(t1)))\n",
    "ch1 = [t1.count(tmp) for tmp in v1]\n",
    "rel_ch1 = [tmp / days for tmp in ch1]\n",
    "v2 = sorted(list(set(t2)))\n",
    "ch2 = [t2.count(tmp) for tmp in v2]\n",
    "rel_ch2 = [tmp / days for tmp in ch2]\n",
    "# Выборочные средние\n",
    "xn1 = sum(v1) / len(v1)\n",
    "xn2 = sum(v2) / len(v2)\n",
    "# Среднеквадратическое отклонение\n",
    "diff1 = [(tmp - xn1)**2 for tmp in v1]\n",
    "diff2 = [(tmp - xn2)**2 for tmp in v2]\n",
    "# Дисперсия\n",
    "d1 = sum(diff1) / len(v1)\n",
    "d2 = sum(diff2) / len(v2)\n",
    "# Коэффициент вариации\n",
    "var1 = d1**0.5 / xn1\n",
    "var2 = d2**0.5 / xn2"
   ]
  },
  {
   "cell_type": "markdown",
   "metadata": {},
   "source": [
    "**Вариационный ряд**\n",
    "\n",
    "Осака:"
   ]
  },
  {
   "cell_type": "code",
   "execution_count": 52,
   "metadata": {},
   "outputs": [
    {
     "data": {
      "text/html": [
       "<style  type=\"text/css\" >\n",
       "    #T_180d2a42_7cd9_11e9_85ea_548ca055b027 .row_heading, .blank {\n",
       "          display: none;;\n",
       "    }</style>  \n",
       "<table id=\"T_180d2a42_7cd9_11e9_85ea_548ca055b027\" > \n",
       "<thead>    <tr> \n",
       "        <th class=\"blank level0\" ></th> \n",
       "        <th class=\"col_heading level0 col0\" >Варианта</th> \n",
       "        <th class=\"col_heading level0 col1\" >(xi - xn)^2</th> \n",
       "        <th class=\"col_heading level0 col2\" >Частота</th> \n",
       "        <th class=\"col_heading level0 col3\" >Относительная частота</th> \n",
       "    </tr></thead> \n",
       "<tbody>    <tr> \n",
       "        <th id=\"T_180d2a42_7cd9_11e9_85ea_548ca055b027level0_row0\" class=\"row_heading level0 row0\" >0</th> \n",
       "        <td id=\"T_180d2a42_7cd9_11e9_85ea_548ca055b027row0_col0\" class=\"data row0 col0\" >5</td> \n",
       "        <td id=\"T_180d2a42_7cd9_11e9_85ea_548ca055b027row0_col1\" class=\"data row0 col1\" >20.25</td> \n",
       "        <td id=\"T_180d2a42_7cd9_11e9_85ea_548ca055b027row0_col2\" class=\"data row0 col2\" >1</td> \n",
       "        <td id=\"T_180d2a42_7cd9_11e9_85ea_548ca055b027row0_col3\" class=\"data row0 col3\" >0.0322581</td> \n",
       "    </tr>    <tr> \n",
       "        <th id=\"T_180d2a42_7cd9_11e9_85ea_548ca055b027level0_row1\" class=\"row_heading level0 row1\" >1</th> \n",
       "        <td id=\"T_180d2a42_7cd9_11e9_85ea_548ca055b027row1_col0\" class=\"data row1 col0\" >7</td> \n",
       "        <td id=\"T_180d2a42_7cd9_11e9_85ea_548ca055b027row1_col1\" class=\"data row1 col1\" >6.25</td> \n",
       "        <td id=\"T_180d2a42_7cd9_11e9_85ea_548ca055b027row1_col2\" class=\"data row1 col2\" >5</td> \n",
       "        <td id=\"T_180d2a42_7cd9_11e9_85ea_548ca055b027row1_col3\" class=\"data row1 col3\" >0.16129</td> \n",
       "    </tr>    <tr> \n",
       "        <th id=\"T_180d2a42_7cd9_11e9_85ea_548ca055b027level0_row2\" class=\"row_heading level0 row2\" >2</th> \n",
       "        <td id=\"T_180d2a42_7cd9_11e9_85ea_548ca055b027row2_col0\" class=\"data row2 col0\" >8</td> \n",
       "        <td id=\"T_180d2a42_7cd9_11e9_85ea_548ca055b027row2_col1\" class=\"data row2 col1\" >2.25</td> \n",
       "        <td id=\"T_180d2a42_7cd9_11e9_85ea_548ca055b027row2_col2\" class=\"data row2 col2\" >5</td> \n",
       "        <td id=\"T_180d2a42_7cd9_11e9_85ea_548ca055b027row2_col3\" class=\"data row2 col3\" >0.16129</td> \n",
       "    </tr>    <tr> \n",
       "        <th id=\"T_180d2a42_7cd9_11e9_85ea_548ca055b027level0_row3\" class=\"row_heading level0 row3\" >3</th> \n",
       "        <td id=\"T_180d2a42_7cd9_11e9_85ea_548ca055b027row3_col0\" class=\"data row3 col0\" >9</td> \n",
       "        <td id=\"T_180d2a42_7cd9_11e9_85ea_548ca055b027row3_col1\" class=\"data row3 col1\" >0.25</td> \n",
       "        <td id=\"T_180d2a42_7cd9_11e9_85ea_548ca055b027row3_col2\" class=\"data row3 col2\" >9</td> \n",
       "        <td id=\"T_180d2a42_7cd9_11e9_85ea_548ca055b027row3_col3\" class=\"data row3 col3\" >0.290323</td> \n",
       "    </tr>    <tr> \n",
       "        <th id=\"T_180d2a42_7cd9_11e9_85ea_548ca055b027level0_row4\" class=\"row_heading level0 row4\" >4</th> \n",
       "        <td id=\"T_180d2a42_7cd9_11e9_85ea_548ca055b027row4_col0\" class=\"data row4 col0\" >10</td> \n",
       "        <td id=\"T_180d2a42_7cd9_11e9_85ea_548ca055b027row4_col1\" class=\"data row4 col1\" >0.25</td> \n",
       "        <td id=\"T_180d2a42_7cd9_11e9_85ea_548ca055b027row4_col2\" class=\"data row4 col2\" >7</td> \n",
       "        <td id=\"T_180d2a42_7cd9_11e9_85ea_548ca055b027row4_col3\" class=\"data row4 col3\" >0.225806</td> \n",
       "    </tr>    <tr> \n",
       "        <th id=\"T_180d2a42_7cd9_11e9_85ea_548ca055b027level0_row5\" class=\"row_heading level0 row5\" >5</th> \n",
       "        <td id=\"T_180d2a42_7cd9_11e9_85ea_548ca055b027row5_col0\" class=\"data row5 col0\" >11</td> \n",
       "        <td id=\"T_180d2a42_7cd9_11e9_85ea_548ca055b027row5_col1\" class=\"data row5 col1\" >2.25</td> \n",
       "        <td id=\"T_180d2a42_7cd9_11e9_85ea_548ca055b027row5_col2\" class=\"data row5 col2\" >2</td> \n",
       "        <td id=\"T_180d2a42_7cd9_11e9_85ea_548ca055b027row5_col3\" class=\"data row5 col3\" >0.0645161</td> \n",
       "    </tr>    <tr> \n",
       "        <th id=\"T_180d2a42_7cd9_11e9_85ea_548ca055b027level0_row6\" class=\"row_heading level0 row6\" >6</th> \n",
       "        <td id=\"T_180d2a42_7cd9_11e9_85ea_548ca055b027row6_col0\" class=\"data row6 col0\" >12</td> \n",
       "        <td id=\"T_180d2a42_7cd9_11e9_85ea_548ca055b027row6_col1\" class=\"data row6 col1\" >6.25</td> \n",
       "        <td id=\"T_180d2a42_7cd9_11e9_85ea_548ca055b027row6_col2\" class=\"data row6 col2\" >1</td> \n",
       "        <td id=\"T_180d2a42_7cd9_11e9_85ea_548ca055b027row6_col3\" class=\"data row6 col3\" >0.0322581</td> \n",
       "    </tr>    <tr> \n",
       "        <th id=\"T_180d2a42_7cd9_11e9_85ea_548ca055b027level0_row7\" class=\"row_heading level0 row7\" >7</th> \n",
       "        <td id=\"T_180d2a42_7cd9_11e9_85ea_548ca055b027row7_col0\" class=\"data row7 col0\" >14</td> \n",
       "        <td id=\"T_180d2a42_7cd9_11e9_85ea_548ca055b027row7_col1\" class=\"data row7 col1\" >20.25</td> \n",
       "        <td id=\"T_180d2a42_7cd9_11e9_85ea_548ca055b027row7_col2\" class=\"data row7 col2\" >1</td> \n",
       "        <td id=\"T_180d2a42_7cd9_11e9_85ea_548ca055b027row7_col3\" class=\"data row7 col3\" >0.0322581</td> \n",
       "    </tr></tbody> \n",
       "</table> "
      ],
      "text/plain": [
       "<pandas.io.formats.style.Styler at 0x7f42ed5e1198>"
      ]
     },
     "execution_count": 52,
     "metadata": {},
     "output_type": "execute_result"
    }
   ],
   "source": [
    "table2 = pd.DataFrame(data = {\n",
    "    'Варианта': v1,\n",
    "    '(xi - xn)^2': diff1,\n",
    "    'Частота': ch1,\n",
    "    'Относительная частота': rel_ch1\n",
    "}).style.set_table_styles([\n",
    "    {'selector': '.row_heading, .blank', 'props': [('display', 'none;')]}\n",
    "])\n",
    "table2"
   ]
  },
  {
   "cell_type": "markdown",
   "metadata": {},
   "source": [
    "Санкт-Петербург:"
   ]
  },
  {
   "cell_type": "code",
   "execution_count": 53,
   "metadata": {},
   "outputs": [
    {
     "data": {
      "text/html": [
       "<style  type=\"text/css\" >\n",
       "    #T_1c2d9792_7cd9_11e9_85ea_548ca055b027 .row_heading, .blank {\n",
       "          display: none;;\n",
       "    }</style>  \n",
       "<table id=\"T_1c2d9792_7cd9_11e9_85ea_548ca055b027\" > \n",
       "<thead>    <tr> \n",
       "        <th class=\"blank level0\" ></th> \n",
       "        <th class=\"col_heading level0 col0\" >Варианта</th> \n",
       "        <th class=\"col_heading level0 col1\" >(xi - xn)^2</th> \n",
       "        <th class=\"col_heading level0 col2\" >Частота</th> \n",
       "        <th class=\"col_heading level0 col3\" >Относительная частота</th> \n",
       "    </tr></thead> \n",
       "<tbody>    <tr> \n",
       "        <th id=\"T_1c2d9792_7cd9_11e9_85ea_548ca055b027level0_row0\" class=\"row_heading level0 row0\" >0</th> \n",
       "        <td id=\"T_1c2d9792_7cd9_11e9_85ea_548ca055b027row0_col0\" class=\"data row0 col0\" >-2</td> \n",
       "        <td id=\"T_1c2d9792_7cd9_11e9_85ea_548ca055b027row0_col1\" class=\"data row0 col1\" >28.09</td> \n",
       "        <td id=\"T_1c2d9792_7cd9_11e9_85ea_548ca055b027row0_col2\" class=\"data row0 col2\" >1</td> \n",
       "        <td id=\"T_1c2d9792_7cd9_11e9_85ea_548ca055b027row0_col3\" class=\"data row0 col3\" >0.0322581</td> \n",
       "    </tr>    <tr> \n",
       "        <th id=\"T_1c2d9792_7cd9_11e9_85ea_548ca055b027level0_row1\" class=\"row_heading level0 row1\" >1</th> \n",
       "        <td id=\"T_1c2d9792_7cd9_11e9_85ea_548ca055b027row1_col0\" class=\"data row1 col0\" >-1</td> \n",
       "        <td id=\"T_1c2d9792_7cd9_11e9_85ea_548ca055b027row1_col1\" class=\"data row1 col1\" >18.49</td> \n",
       "        <td id=\"T_1c2d9792_7cd9_11e9_85ea_548ca055b027row1_col2\" class=\"data row1 col2\" >1</td> \n",
       "        <td id=\"T_1c2d9792_7cd9_11e9_85ea_548ca055b027row1_col3\" class=\"data row1 col3\" >0.0322581</td> \n",
       "    </tr>    <tr> \n",
       "        <th id=\"T_1c2d9792_7cd9_11e9_85ea_548ca055b027level0_row2\" class=\"row_heading level0 row2\" >2</th> \n",
       "        <td id=\"T_1c2d9792_7cd9_11e9_85ea_548ca055b027row2_col0\" class=\"data row2 col0\" >1</td> \n",
       "        <td id=\"T_1c2d9792_7cd9_11e9_85ea_548ca055b027row2_col1\" class=\"data row2 col1\" >5.29</td> \n",
       "        <td id=\"T_1c2d9792_7cd9_11e9_85ea_548ca055b027row2_col2\" class=\"data row2 col2\" >3</td> \n",
       "        <td id=\"T_1c2d9792_7cd9_11e9_85ea_548ca055b027row2_col3\" class=\"data row2 col3\" >0.0967742</td> \n",
       "    </tr>    <tr> \n",
       "        <th id=\"T_1c2d9792_7cd9_11e9_85ea_548ca055b027level0_row3\" class=\"row_heading level0 row3\" >3</th> \n",
       "        <td id=\"T_1c2d9792_7cd9_11e9_85ea_548ca055b027row3_col0\" class=\"data row3 col0\" >2</td> \n",
       "        <td id=\"T_1c2d9792_7cd9_11e9_85ea_548ca055b027row3_col1\" class=\"data row3 col1\" >1.69</td> \n",
       "        <td id=\"T_1c2d9792_7cd9_11e9_85ea_548ca055b027row3_col2\" class=\"data row3 col2\" >5</td> \n",
       "        <td id=\"T_1c2d9792_7cd9_11e9_85ea_548ca055b027row3_col3\" class=\"data row3 col3\" >0.16129</td> \n",
       "    </tr>    <tr> \n",
       "        <th id=\"T_1c2d9792_7cd9_11e9_85ea_548ca055b027level0_row4\" class=\"row_heading level0 row4\" >4</th> \n",
       "        <td id=\"T_1c2d9792_7cd9_11e9_85ea_548ca055b027row4_col0\" class=\"data row4 col0\" >3</td> \n",
       "        <td id=\"T_1c2d9792_7cd9_11e9_85ea_548ca055b027row4_col1\" class=\"data row4 col1\" >0.09</td> \n",
       "        <td id=\"T_1c2d9792_7cd9_11e9_85ea_548ca055b027row4_col2\" class=\"data row4 col2\" >4</td> \n",
       "        <td id=\"T_1c2d9792_7cd9_11e9_85ea_548ca055b027row4_col3\" class=\"data row4 col3\" >0.129032</td> \n",
       "    </tr>    <tr> \n",
       "        <th id=\"T_1c2d9792_7cd9_11e9_85ea_548ca055b027level0_row5\" class=\"row_heading level0 row5\" >5</th> \n",
       "        <td id=\"T_1c2d9792_7cd9_11e9_85ea_548ca055b027row5_col0\" class=\"data row5 col0\" >4</td> \n",
       "        <td id=\"T_1c2d9792_7cd9_11e9_85ea_548ca055b027row5_col1\" class=\"data row5 col1\" >0.49</td> \n",
       "        <td id=\"T_1c2d9792_7cd9_11e9_85ea_548ca055b027row5_col2\" class=\"data row5 col2\" >4</td> \n",
       "        <td id=\"T_1c2d9792_7cd9_11e9_85ea_548ca055b027row5_col3\" class=\"data row5 col3\" >0.129032</td> \n",
       "    </tr>    <tr> \n",
       "        <th id=\"T_1c2d9792_7cd9_11e9_85ea_548ca055b027level0_row6\" class=\"row_heading level0 row6\" >6</th> \n",
       "        <td id=\"T_1c2d9792_7cd9_11e9_85ea_548ca055b027row6_col0\" class=\"data row6 col0\" >5</td> \n",
       "        <td id=\"T_1c2d9792_7cd9_11e9_85ea_548ca055b027row6_col1\" class=\"data row6 col1\" >2.89</td> \n",
       "        <td id=\"T_1c2d9792_7cd9_11e9_85ea_548ca055b027row6_col2\" class=\"data row6 col2\" >5</td> \n",
       "        <td id=\"T_1c2d9792_7cd9_11e9_85ea_548ca055b027row6_col3\" class=\"data row6 col3\" >0.16129</td> \n",
       "    </tr>    <tr> \n",
       "        <th id=\"T_1c2d9792_7cd9_11e9_85ea_548ca055b027level0_row7\" class=\"row_heading level0 row7\" >7</th> \n",
       "        <td id=\"T_1c2d9792_7cd9_11e9_85ea_548ca055b027row7_col0\" class=\"data row7 col0\" >6</td> \n",
       "        <td id=\"T_1c2d9792_7cd9_11e9_85ea_548ca055b027row7_col1\" class=\"data row7 col1\" >7.29</td> \n",
       "        <td id=\"T_1c2d9792_7cd9_11e9_85ea_548ca055b027row7_col2\" class=\"data row7 col2\" >5</td> \n",
       "        <td id=\"T_1c2d9792_7cd9_11e9_85ea_548ca055b027row7_col3\" class=\"data row7 col3\" >0.16129</td> \n",
       "    </tr>    <tr> \n",
       "        <th id=\"T_1c2d9792_7cd9_11e9_85ea_548ca055b027level0_row8\" class=\"row_heading level0 row8\" >8</th> \n",
       "        <td id=\"T_1c2d9792_7cd9_11e9_85ea_548ca055b027row8_col0\" class=\"data row8 col0\" >7</td> \n",
       "        <td id=\"T_1c2d9792_7cd9_11e9_85ea_548ca055b027row8_col1\" class=\"data row8 col1\" >13.69</td> \n",
       "        <td id=\"T_1c2d9792_7cd9_11e9_85ea_548ca055b027row8_col2\" class=\"data row8 col2\" >1</td> \n",
       "        <td id=\"T_1c2d9792_7cd9_11e9_85ea_548ca055b027row8_col3\" class=\"data row8 col3\" >0.0322581</td> \n",
       "    </tr>    <tr> \n",
       "        <th id=\"T_1c2d9792_7cd9_11e9_85ea_548ca055b027level0_row9\" class=\"row_heading level0 row9\" >9</th> \n",
       "        <td id=\"T_1c2d9792_7cd9_11e9_85ea_548ca055b027row9_col0\" class=\"data row9 col0\" >8</td> \n",
       "        <td id=\"T_1c2d9792_7cd9_11e9_85ea_548ca055b027row9_col1\" class=\"data row9 col1\" >22.09</td> \n",
       "        <td id=\"T_1c2d9792_7cd9_11e9_85ea_548ca055b027row9_col2\" class=\"data row9 col2\" >2</td> \n",
       "        <td id=\"T_1c2d9792_7cd9_11e9_85ea_548ca055b027row9_col3\" class=\"data row9 col3\" >0.0645161</td> \n",
       "    </tr></tbody> \n",
       "</table> "
      ],
      "text/plain": [
       "<pandas.io.formats.style.Styler at 0x7f42ed5f3828>"
      ]
     },
     "execution_count": 53,
     "metadata": {},
     "output_type": "execute_result"
    }
   ],
   "source": [
    "table3 = pd.DataFrame(data = {\n",
    "    'Варианта': v2,\n",
    "    '(xi - xn)^2': diff2,\n",
    "    'Частота': ch2,\n",
    "    'Относительная частота': rel_ch2\n",
    "}).style.set_table_styles([\n",
    "    {'selector': '.row_heading, .blank', 'props': [('display', 'none;')]}\n",
    "])\n",
    "table3"
   ]
  },
  {
   "cell_type": "markdown",
   "metadata": {},
   "source": [
    "**Расчет основных параметров**"
   ]
  },
  {
   "cell_type": "code",
   "execution_count": 75,
   "metadata": {},
   "outputs": [
    {
     "data": {
      "text/html": [
       "<style  type=\"text/css\" >\n",
       "    #T_16d8c66a_7cdc_11e9_85ea_548ca055b027 .row_heading, .blank {\n",
       "          display: none;;\n",
       "    }</style>  \n",
       "<table id=\"T_16d8c66a_7cdc_11e9_85ea_548ca055b027\" > \n",
       "<thead>    <tr> \n",
       "        <th class=\"blank level0\" ></th> \n",
       "        <th class=\"col_heading level0 col0\" >Показатель</th> \n",
       "        <th class=\"col_heading level0 col1\" >Осака</th> \n",
       "        <th class=\"col_heading level0 col2\" >Санкт-Петербург</th> \n",
       "    </tr></thead> \n",
       "<tbody>    <tr> \n",
       "        <th id=\"T_16d8c66a_7cdc_11e9_85ea_548ca055b027level0_row0\" class=\"row_heading level0 row0\" >0</th> \n",
       "        <td id=\"T_16d8c66a_7cdc_11e9_85ea_548ca055b027row0_col0\" class=\"data row0 col0\" >Выборочная средняя xn</td> \n",
       "        <td id=\"T_16d8c66a_7cdc_11e9_85ea_548ca055b027row0_col1\" class=\"data row0 col1\" >9.5</td> \n",
       "        <td id=\"T_16d8c66a_7cdc_11e9_85ea_548ca055b027row0_col2\" class=\"data row0 col2\" >3.3</td> \n",
       "    </tr>    <tr> \n",
       "        <th id=\"T_16d8c66a_7cdc_11e9_85ea_548ca055b027level0_row1\" class=\"row_heading level0 row1\" >1</th> \n",
       "        <td id=\"T_16d8c66a_7cdc_11e9_85ea_548ca055b027row1_col0\" class=\"data row1 col0\" >Дисперсия Dr</td> \n",
       "        <td id=\"T_16d8c66a_7cdc_11e9_85ea_548ca055b027row1_col1\" class=\"data row1 col1\" >7.25</td> \n",
       "        <td id=\"T_16d8c66a_7cdc_11e9_85ea_548ca055b027row1_col2\" class=\"data row1 col2\" >10.01</td> \n",
       "    </tr>    <tr> \n",
       "        <th id=\"T_16d8c66a_7cdc_11e9_85ea_548ca055b027level0_row2\" class=\"row_heading level0 row2\" >2</th> \n",
       "        <td id=\"T_16d8c66a_7cdc_11e9_85ea_548ca055b027row2_col0\" class=\"data row2 col0\" >Коэффициент вариации V</td> \n",
       "        <td id=\"T_16d8c66a_7cdc_11e9_85ea_548ca055b027row2_col1\" class=\"data row2 col1\" >0.28343</td> \n",
       "        <td id=\"T_16d8c66a_7cdc_11e9_85ea_548ca055b027row2_col2\" class=\"data row2 col2\" >0.958745</td> \n",
       "    </tr></tbody> \n",
       "</table> "
      ],
      "text/plain": [
       "<pandas.io.formats.style.Styler at 0x7f42ed5f3240>"
      ]
     },
     "execution_count": 75,
     "metadata": {},
     "output_type": "execute_result"
    }
   ],
   "source": [
    "table3 = pd.DataFrame(data = {\n",
    "    'Показатель': ['Выборочная средняя xn', 'Дисперсия Dr', 'Коэффициент вариации V'],\n",
    "    city1: [xn1, d1, var1],\n",
    "    city2: [xn2, d2, var2],\n",
    "}).style.set_table_styles([\n",
    "    {'selector': '.row_heading, .blank', 'props': [('display', 'none;')]}\n",
    "])\n",
    "table3"
   ]
  },
  {
   "cell_type": "code",
   "execution_count": 100,
   "metadata": {},
   "outputs": [
    {
     "data": {
      "image/png": "[encoded data removed]",
      "text/plain": [
       "<Figure size 432x288 with 1 Axes>"
      ]
     },
     "metadata": {
      "needs_background": "light"
     },
     "output_type": "display_data"
    },
    {
     "data": {
      "image/png": "[encoded data removed]",
      "text/plain": [
       "<Figure size 432x288 with 1 Axes>"
      ]
     },
     "metadata": {
      "needs_background": "light"
     },
     "output_type": "display_data"
    },
    {
     "data": {
      "image/png": "[encoded data removed]",
      "text/plain": [
       "<Figure size 432x288 with 1 Axes>"
      ]
     },
     "metadata": {
      "needs_background": "light"
     },
     "output_type": "display_data"
    },
    {
     "data": {
      "image/png": "[encoded data removed]",
      "text/plain": [
       "<Figure size 432x288 with 1 Axes>"
      ]
     },
     "metadata": {
      "needs_background": "light"
     },
     "output_type": "display_data"
    }
   ],
   "source": [
    "import matplotlib.pyplot as plt\n",
    "\n",
    "def build_dots(xs, ys, t, xl, yl, bar = False):\n",
    "    if not bar:\n",
    "        plt.plot(xs, ys, 'ro-')\n",
    "    else:\n",
    "        plt.bar(xs, ys)\n",
    "    plt.grid()\n",
    "    plt.suptitle(t)\n",
    "    plt.xlabel(xl)\n",
    "    plt.ylabel(yl)\n",
    "    plt.show()\n",
    "\n",
    "build_dots(v1, ch1, f'Полигон частот: {city1}', 'xi', 'ni')\n",
    "build_dots(v1, rel_ch1, f'Гистограмма относительных частот: {city1}', 'xi', 'hi', True)\n",
    "build_dots(v2, ch2, f'Полигон частот: {city2}', 'xi', 'ni')\n",
    "build_dots(v2, rel_ch2, f'Гистограмма относительных частот: {city2}', 'xi', 'hi', True)"
   ]
  }
 ],
 "metadata": {
  "kernelspec": {
   "display_name": "Python 3",
   "language": "python",
   "name": "python3"
  },
  "language_info": {
   "codemirror_mode": {
    "name": "ipython",
    "version": 3
   },
   "file_extension": ".py",
   "mimetype": "text/x-python",
   "name": "python",
   "nbconvert_exporter": "python",
   "pygments_lexer": "ipython3",
   "version": "3.7.2"
  }
 },
 "nbformat": 4,
 "nbformat_minor": 2
}
